{
 "metadata": {
  "language_info": {
   "codemirror_mode": {
    "name": "ipython",
    "version": 3
   },
   "file_extension": ".py",
   "mimetype": "text/x-python",
   "name": "python",
   "nbconvert_exporter": "python",
   "pygments_lexer": "ipython3",
   "version": "3.8.5-final"
  },
  "orig_nbformat": 2,
  "kernelspec": {
   "name": "python3",
   "display_name": "Python 3",
   "language": "python"
  }
 },
 "nbformat": 4,
 "nbformat_minor": 2,
 "cells": [
  {
   "cell_type": "code",
   "execution_count": 1,
   "metadata": {},
   "outputs": [
    {
     "output_type": "stream",
     "name": "stdout",
     "text": [
      "Requirement already satisfied: absl-py==0.11.0 in c:\\users\\szwaj\\appdata\\roaming\\python\\python38\\site-packages (from -r requirements.txt (line 1)) (0.11.0)\n",
      "Requirement already satisfied: astunparse==1.6.3 in c:\\users\\szwaj\\appdata\\roaming\\python\\python38\\site-packages (from -r requirements.txt (line 2)) (1.6.3)\n",
      "Requirement already satisfied: cachetools==4.2.0 in c:\\users\\szwaj\\appdata\\roaming\\python\\python38\\site-packages (from -r requirements.txt (line 3)) (4.2.0)\n",
      "Requirement already satisfied: certifi==2020.12.5 in c:\\users\\szwaj\\appdata\\roaming\\python\\python38\\site-packages (from -r requirements.txt (line 4)) (2020.12.5)\n",
      "Requirement already satisfied: chardet==4.0.0 in c:\\users\\szwaj\\anaconda3\\lib\\site-packages (from -r requirements.txt (line 5)) (4.0.0)\n",
      "Requirement already satisfied: click==7.1.2 in c:\\users\\szwaj\\appdata\\roaming\\python\\python38\\site-packages (from -r requirements.txt (line 6)) (7.1.2)\n",
      "Requirement already satisfied: cycler==0.10.0 in c:\\users\\szwaj\\appdata\\roaming\\python\\python38\\site-packages (from -r requirements.txt (line 7)) (0.10.0)\n",
      "Requirement already satisfied: flatbuffers==1.12 in c:\\users\\szwaj\\appdata\\roaming\\python\\python38\\site-packages (from -r requirements.txt (line 8)) (1.12)\n",
      "Requirement already satisfied: gast==0.3.3 in c:\\users\\szwaj\\appdata\\roaming\\python\\python38\\site-packages (from -r requirements.txt (line 9)) (0.3.3)\n",
      "Requirement already satisfied: google-auth==1.24.0 in c:\\users\\szwaj\\appdata\\roaming\\python\\python38\\site-packages (from -r requirements.txt (line 10)) (1.24.0)\n",
      "Requirement already satisfied: google-auth-oauthlib==0.4.2 in c:\\users\\szwaj\\appdata\\roaming\\python\\python38\\site-packages (from -r requirements.txt (line 11)) (0.4.2)\n",
      "Requirement already satisfied: google-pasta==0.2.0 in c:\\users\\szwaj\\appdata\\roaming\\python\\python38\\site-packages (from -r requirements.txt (line 12)) (0.2.0)\n",
      "Requirement already satisfied: grpcio==1.32.0 in c:\\users\\szwaj\\appdata\\roaming\\python\\python38\\site-packages (from -r requirements.txt (line 13)) (1.32.0)\n",
      "Requirement already satisfied: h5py==2.10.0 in c:\\users\\szwaj\\appdata\\roaming\\python\\python38\\site-packages (from -r requirements.txt (line 14)) (2.10.0)\n",
      "Requirement already satisfied: idna==2.10 in c:\\users\\szwaj\\appdata\\roaming\\python\\python38\\site-packages (from -r requirements.txt (line 15)) (2.10)\n",
      "Requirement already satisfied: imutils==0.5.3 in c:\\users\\szwaj\\anaconda3\\lib\\site-packages (from -r requirements.txt (line 16)) (0.5.3)\n",
      "Requirement already satisfied: Keras-Preprocessing==1.1.2 in c:\\users\\szwaj\\appdata\\roaming\\python\\python38\\site-packages (from -r requirements.txt (line 17)) (1.1.2)\n",
      "Requirement already satisfied: kiwisolver==1.3.1 in c:\\users\\szwaj\\appdata\\roaming\\python\\python38\\site-packages (from -r requirements.txt (line 18)) (1.3.1)\n",
      "Requirement already satisfied: Markdown==3.3.3 in c:\\users\\szwaj\\appdata\\roaming\\python\\python38\\site-packages (from -r requirements.txt (line 19)) (3.3.3)\n",
      "Requirement already satisfied: matplotlib==3.3.3 in c:\\users\\szwaj\\appdata\\roaming\\python\\python38\\site-packages (from -r requirements.txt (line 20)) (3.3.3)\n",
      "Requirement already satisfied: numpy==1.19.5 in c:\\users\\szwaj\\anaconda3\\lib\\site-packages (from -r requirements.txt (line 21)) (1.19.5)\n",
      "Requirement already satisfied: oauthlib==3.1.0 in c:\\users\\szwaj\\appdata\\roaming\\python\\python38\\site-packages (from -r requirements.txt (line 22)) (3.1.0)\n",
      "Requirement already satisfied: opencv-python==4.5.1.48 in c:\\users\\szwaj\\anaconda3\\lib\\site-packages (from -r requirements.txt (line 23)) (4.5.1.48)\n",
      "Requirement already satisfied: opt-einsum==3.3.0 in c:\\users\\szwaj\\appdata\\roaming\\python\\python38\\site-packages (from -r requirements.txt (line 24)) (3.3.0)\n",
      "Requirement already satisfied: protobuf==3.14.0 in c:\\users\\szwaj\\appdata\\roaming\\python\\python38\\site-packages (from -r requirements.txt (line 25)) (3.14.0)\n",
      "Requirement already satisfied: pyasn1==0.4.8 in c:\\users\\szwaj\\appdata\\roaming\\python\\python38\\site-packages (from -r requirements.txt (line 26)) (0.4.8)\n",
      "Requirement already satisfied: pyasn1-modules==0.2.8 in c:\\users\\szwaj\\appdata\\roaming\\python\\python38\\site-packages (from -r requirements.txt (line 27)) (0.2.8)\n",
      "Requirement already satisfied: pyparsing==2.4.7 in c:\\users\\szwaj\\appdata\\roaming\\python\\python38\\site-packages (from -r requirements.txt (line 28)) (2.4.7)\n",
      "Requirement already satisfied: python-dateutil==2.8.1 in c:\\users\\szwaj\\appdata\\roaming\\python\\python38\\site-packages (from -r requirements.txt (line 29)) (2.8.1)\n",
      "Requirement already satisfied: python-dotenv==0.15.0 in c:\\users\\szwaj\\appdata\\roaming\\python\\python38\\site-packages (from -r requirements.txt (line 30)) (0.15.0)\n",
      "Requirement already satisfied: PyYAML==5.3.1 in c:\\users\\szwaj\\appdata\\roaming\\python\\python38\\site-packages (from -r requirements.txt (line 31)) (5.3.1)\n",
      "Requirement already satisfied: requests==2.25.1 in c:\\users\\szwaj\\anaconda3\\lib\\site-packages (from -r requirements.txt (line 32)) (2.25.1)\n",
      "Requirement already satisfied: requests-oauthlib==1.3.0 in c:\\users\\szwaj\\appdata\\roaming\\python\\python38\\site-packages (from -r requirements.txt (line 33)) (1.3.0)\n",
      "Requirement already satisfied: rsa==4.7 in c:\\users\\szwaj\\anaconda3\\lib\\site-packages (from -r requirements.txt (line 34)) (4.7)\n",
      "Requirement already satisfied: scipy==1.6.0 in c:\\users\\szwaj\\anaconda3\\lib\\site-packages (from -r requirements.txt (line 35)) (1.6.0)\n",
      "Requirement already satisfied: six==1.15.0 in c:\\users\\szwaj\\appdata\\roaming\\python\\python38\\site-packages (from -r requirements.txt (line 36)) (1.15.0)\n",
      "Requirement already satisfied: tensorboard==2.4.1 in c:\\users\\szwaj\\anaconda3\\lib\\site-packages (from -r requirements.txt (line 37)) (2.4.1)\n",
      "Requirement already satisfied: tensorboard-plugin-wit==1.7.0 in c:\\users\\szwaj\\appdata\\roaming\\python\\python38\\site-packages (from -r requirements.txt (line 38)) (1.7.0)\n",
      "Requirement already satisfied: tensorflow-estimator==2.4.0 in c:\\users\\szwaj\\appdata\\roaming\\python\\python38\\site-packages (from -r requirements.txt (line 39)) (2.4.0)\n",
      "Requirement already satisfied: termcolor==1.1.0 in c:\\users\\szwaj\\appdata\\roaming\\python\\python38\\site-packages (from -r requirements.txt (line 40)) (1.1.0)\n",
      "Requirement already satisfied: typing-extensions==3.7.4.3 in c:\\users\\szwaj\\appdata\\roaming\\python\\python38\\site-packages (from -r requirements.txt (line 41)) (3.7.4.3)\n",
      "Requirement already satisfied: urllib3==1.26.2 in c:\\users\\szwaj\\appdata\\roaming\\python\\python38\\site-packages (from -r requirements.txt (line 42)) (1.26.2)\n",
      "Requirement already satisfied: Werkzeug==1.0.1 in c:\\users\\szwaj\\appdata\\roaming\\python\\python38\\site-packages (from -r requirements.txt (line 43)) (1.0.1)\n",
      "Requirement already satisfied: wrapt==1.12.1 in c:\\users\\szwaj\\appdata\\roaming\\python\\python38\\site-packages (from -r requirements.txt (line 44)) (1.12.1)\n",
      "Requirement already satisfied: wheel<1.0,>=0.23.0 in c:\\users\\szwaj\\appdata\\roaming\\python\\python38\\site-packages (from astunparse==1.6.3->-r requirements.txt (line 2)) (0.36.2)\n",
      "Requirement already satisfied: setuptools>=40.3.0 in c:\\users\\szwaj\\anaconda3\\lib\\site-packages (from google-auth==1.24.0->-r requirements.txt (line 10)) (50.3.1.post20201107)\n",
      "Requirement already satisfied: pillow>=6.2.0 in c:\\users\\szwaj\\appdata\\roaming\\python\\python38\\site-packages (from matplotlib==3.3.3->-r requirements.txt (line 20)) (8.0.1)\n",
      "WARNING: You are using pip version 20.3.3; however, version 21.0.1 is available.\n",
      "You should consider upgrading via the 'C:\\Users\\szwaj\\anaconda3\\python.exe -m pip install --upgrade pip' command.\n"
     ]
    }
   ],
   "source": [
    "\n",
    "!pip install -r requirements.txt "
   ]
  },
  {
   "cell_type": "code",
   "execution_count": 2,
   "metadata": {},
   "outputs": [],
   "source": [
    "\n",
    "# tell notebook to look at this directory for files too \n",
    "import sys \n",
    "sys.path.insert(0, 'C:\\DEV\\Car_tracking\\src')\n",
    "from program import main"
   ]
  },
  {
   "cell_type": "code",
   "execution_count": 4,
   "metadata": {},
   "outputs": [
    {
     "output_type": "stream",
     "name": "stdout",
     "text": [
      "Sun Jan 31 14:58:45 2021 Cars to check: 0\n",
      "Sun Jan 31 14:58:45 2021 Cars to check: 1\n",
      "Sun Jan 31 14:58:46 2021 Cars to check: 1\n",
      "Sun Jan 31 14:58:47 2021 Cars to check: 2\n",
      "Sun Jan 31 14:58:49 2021 Cars to check: 5\n",
      "Sun Jan 31 14:58:50 2021 Cars to check: 5\n",
      "Sun Jan 31 14:58:51 2021 Cars to check: 6\n",
      "Sun Jan 31 14:58:52 2021 Cars to check: 7\n",
      "Sun Jan 31 14:58:53 2021 Cars to check: 8\n",
      "Sun Jan 31 14:58:54 2021 Cars to check: 11\n",
      "Sun Jan 31 14:58:55 2021 Cars to check: 12\n",
      "Sun Jan 31 14:58:56 2021 Cars to check: 13\n",
      "Sun Jan 31 14:58:57 2021 Cars to check: 15\n",
      "Sun Jan 31 14:58:58 2021 Cars to check: 15\n",
      "Sun Jan 31 14:58:59 2021 Cars to check: 16\n",
      "Sun Jan 31 14:59:00 2021 Cars to check: 16\n",
      "Sun Jan 31 14:59:01 2021 Cars to check: 16\n",
      "Sun Jan 31 14:59:02 2021 Cars to check: 17\n",
      "Sun Jan 31 14:59:03 2021 Cars to check: 20\n",
      "Sun Jan 31 14:59:04 2021 Cars to check: 23\n",
      "Sun Jan 31 14:59:05 2021 Cars to check: 22\n",
      "Sun Jan 31 14:59:06 2021 Cars to check: 23\n",
      "Sun Jan 31 14:59:07 2021 Cars to check: 24\n",
      "Sun Jan 31 14:59:08 2021 Cars to check: 23\n",
      "Sun Jan 31 14:59:09 2021 Cars to check: 23\n",
      "Sun Jan 31 14:59:10 2021 Cars to check: 23\n",
      "Sun Jan 31 14:59:11 2021 Cars to check: 22\n",
      "Sun Jan 31 14:59:12 2021 Cars to check: 23\n",
      "Sun Jan 31 14:59:13 2021 Cars to check: 22\n",
      "Sun Jan 31 14:59:14 2021 Cars to check: 22\n",
      "Sun Jan 31 14:59:15 2021 Cars to check: 21\n"
     ]
    }
   ],
   "source": [
    "main('videos\\droga.mp4')"
   ]
  },
  {
   "cell_type": "code",
   "execution_count": null,
   "metadata": {},
   "outputs": [],
   "source": []
  }
 ]
}