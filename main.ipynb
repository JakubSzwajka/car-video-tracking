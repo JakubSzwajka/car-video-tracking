{
 "metadata": {
  "language_info": {
   "codemirror_mode": {
    "name": "ipython",
    "version": 3
   },
   "file_extension": ".py",
   "mimetype": "text/x-python",
   "name": "python",
   "nbconvert_exporter": "python",
   "pygments_lexer": "ipython3",
   "version": "3.8.5-final"
  },
  "orig_nbformat": 2,
  "kernelspec": {
   "name": "python3",
   "display_name": "Python 3",
   "language": "python"
  }
 },
 "nbformat": 4,
 "nbformat_minor": 2,
 "cells": [
  {
   "cell_type": "code",
   "execution_count": null,
   "metadata": {},
   "outputs": [],
   "source": [
    "\n",
    "!git clone https://github.com/JakubSzwajka/car_tracking\n",
    "!pip install -r car_tracking/requirements.txt "
   ]
  },
  {
   "cell_type": "code",
   "execution_count": null,
   "metadata": {},
   "outputs": [],
   "source": [
    "# tell notebook to look at this directory for files too \n",
    "import sys \n",
    "sys.path.insert(0, 'C:\\DEV\\Car_tracking\\src')\n",
    "from program import main"
   ]
  },
  {
   "cell_type": "code",
   "execution_count": null,
   "metadata": {},
   "outputs": [],
   "source": [
    "# tell notebook to look at this directory for files too \n",
    "import sys \n",
    "\n",
    "path = 'car_tracking/src'\n",
    "\n",
    "if path in sys.path:\n",
    "  sys.path.insert(0, path)"
   ]
  },
  {
   "cell_type": "code",
   "execution_count": null,
   "metadata": {},
   "outputs": [],
   "source": [
    "from program import main\n",
    "main('videos\\droga.mp4')"
   ]
  }
 ]
}